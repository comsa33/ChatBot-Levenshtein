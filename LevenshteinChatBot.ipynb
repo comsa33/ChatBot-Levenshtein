{
  "nbformat": 4,
  "nbformat_minor": 0,
  "metadata": {
    "colab": {
      "provenance": [],
      "authorship_tag": "ABX9TyN8ecl8ax1WAybhpmkz84kr",
      "include_colab_link": true
    },
    "kernelspec": {
      "name": "python3",
      "display_name": "Python 3"
    },
    "language_info": {
      "name": "python"
    }
  },
  "cells": [
    {
      "cell_type": "markdown",
      "metadata": {
        "id": "view-in-github",
        "colab_type": "text"
      },
      "source": [
        "<a href=\"https://colab.research.google.com/github/comsa33/ChatBot-Levenshtein/blob/main/LevenshteinChatBot.ipynb\" target=\"_parent\"><img src=\"https://colab.research.google.com/assets/colab-badge.svg\" alt=\"Open In Colab\"/></a>"
      ]
    },
    {
      "cell_type": "code",
      "source": [
        "import pandas as pd\n",
        "\n",
        "# 레벤슈타인 거리 계산 함수\n",
        "def levenshtein_distance(s1, s2):\n",
        "    # 긴 문자열이 s1에 오도록 재정렬\n",
        "    if len(s1) < len(s2):\n",
        "        return levenshtein_distance(s2, s1)\n",
        "\n",
        "    # s2가 비어 있다면 s1의 길이를 반환\n",
        "    if len(s2) == 0:\n",
        "        return len(s1)\n",
        "\n",
        "    # 행렬을 초기화\n",
        "    previous_row = range(len(s2) + 1)\n",
        "    for i, c1 in enumerate(s1):\n",
        "        current_row = [i + 1]\n",
        "\n",
        "        # 삽입, 삭제, 변경 비용을 비교\n",
        "        for j, c2 in enumerate(s2):\n",
        "            insertions = previous_row[j + 1] + 1 # j+1 문자를 s1에 삽입\n",
        "            deletions = current_row[j] + 1       # j 문자를 s1에서 삭제\n",
        "            substitutions = previous_row[j] + (c1 != c2) # s1의 j 문자를 변경\n",
        "            current_row.append(min(insertions, deletions, substitutions))\n",
        "\n",
        "        previous_row = current_row\n",
        "\n",
        "    return previous_row[-1]\n",
        "\n",
        "class LevenshteinChatBot:\n",
        "    def __init__(self, filepath):\n",
        "        # 질문과 답변을 로드합니다.\n",
        "        self.questions, self.answers = self.load_data(filepath)\n",
        "\n",
        "    # 학습 데이터를 불러오는 함수\n",
        "    def load_data(self, filepath):\n",
        "        data = pd.read_csv(filepath)\n",
        "        questions = data['Q'].tolist()  # 질문을 리스트로 저장\n",
        "        answers = data['A'].tolist()    # 답변을 리스트로 저장\n",
        "        return questions, answers\n",
        "\n",
        "    # 입력 문장에 가장 잘 맞는 답변을 찾는 함수\n",
        "    def find_best_answer(self, input_sentence):\n",
        "        # 각 질문과의 레벤슈타인 거리를 계산합니다.\n",
        "        distances = [levenshtein_distance(input_sentence, question) for question in self.questions]\n",
        "        # 가장 거리가 짧은 질문을 찾습니다.\n",
        "        best_match_index = distances.index(min(distances))\n",
        "        # 해당 질문의 답변을 반환합니다.\n",
        "        return self.answers[best_match_index]\n",
        "\n",
        "# CSV 파일 경로를 지정합니다.\n",
        "filepath = 'ChatbotData.csv'\n",
        "# 레벤슈타인 챗봇 인스턴스를 생성합니다.\n",
        "chatbot = LevenshteinChatBot(filepath)\n",
        "\n",
        "# '종료'라는 단어가 입력될 때까지 챗봇과의 대화를 반복합니다.\n",
        "while True:\n",
        "    input_sentence = input('You: ')\n",
        "    if input_sentence.lower() == '종료':\n",
        "        break\n",
        "    response = chatbot.find_best_answer(input_sentence)\n",
        "    print('Chatbot:', response)"
      ],
      "metadata": {
        "colab": {
          "base_uri": "https://localhost:8080/",
          "height": 699
        },
        "id": "8VLZRbSRjxFZ",
        "outputId": "f93aa29f-c211-429d-d9a7-397eb3103bb8"
      },
      "execution_count": 3,
      "outputs": [
        {
          "output_type": "stream",
          "name": "stdout",
          "text": [
            "You: 안녕\n",
            "Chatbot: 안녕하세요.\n",
            "You: ㅎㅇ\n",
            "Chatbot: 저도 즐거워요\n",
            "You: ㅋㅋㅋㅋㅋㅋ\n",
            "Chatbot: 하루가 또 가네요.\n",
            "You: 뭐래\n",
            "Chatbot: 잘자요.\n",
            "You: 안되\n",
            "Chatbot: 안녕하세요.\n",
            "You: 뭐해\n",
            "Chatbot: 자세히 말씀해주세요.\n",
            "You: 배고파\n",
            "Chatbot: 얼른 맛난 음식 드세요.\n",
            "You: 배불러\n",
            "Chatbot: 산책 좀 해야겠네여.\n"
          ]
        },
        {
          "output_type": "error",
          "ename": "KeyboardInterrupt",
          "evalue": "ignored",
          "traceback": [
            "\u001b[0;31m---------------------------------------------------------------------------\u001b[0m",
            "\u001b[0;31mKeyboardInterrupt\u001b[0m                         Traceback (most recent call last)",
            "\u001b[0;32m<ipython-input-3-c426ea3fc91c>\u001b[0m in \u001b[0;36m<cell line: 56>\u001b[0;34m()\u001b[0m\n\u001b[1;32m     55\u001b[0m \u001b[0;31m# '종료'라는 단어가 입력될 때까지 챗봇과의 대화를 반복합니다.\u001b[0m\u001b[0;34m\u001b[0m\u001b[0;34m\u001b[0m\u001b[0m\n\u001b[1;32m     56\u001b[0m \u001b[0;32mwhile\u001b[0m \u001b[0;32mTrue\u001b[0m\u001b[0;34m:\u001b[0m\u001b[0;34m\u001b[0m\u001b[0;34m\u001b[0m\u001b[0m\n\u001b[0;32m---> 57\u001b[0;31m     \u001b[0minput_sentence\u001b[0m \u001b[0;34m=\u001b[0m \u001b[0minput\u001b[0m\u001b[0;34m(\u001b[0m\u001b[0;34m'You: '\u001b[0m\u001b[0;34m)\u001b[0m\u001b[0;34m\u001b[0m\u001b[0;34m\u001b[0m\u001b[0m\n\u001b[0m\u001b[1;32m     58\u001b[0m     \u001b[0;32mif\u001b[0m \u001b[0minput_sentence\u001b[0m\u001b[0;34m.\u001b[0m\u001b[0mlower\u001b[0m\u001b[0;34m(\u001b[0m\u001b[0;34m)\u001b[0m \u001b[0;34m==\u001b[0m \u001b[0;34m'종료'\u001b[0m\u001b[0;34m:\u001b[0m\u001b[0;34m\u001b[0m\u001b[0;34m\u001b[0m\u001b[0m\n\u001b[1;32m     59\u001b[0m         \u001b[0;32mbreak\u001b[0m\u001b[0;34m\u001b[0m\u001b[0;34m\u001b[0m\u001b[0m\n",
            "\u001b[0;32m/usr/local/lib/python3.10/dist-packages/ipykernel/kernelbase.py\u001b[0m in \u001b[0;36mraw_input\u001b[0;34m(self, prompt)\u001b[0m\n\u001b[1;32m    849\u001b[0m                 \u001b[0;34m\"raw_input was called, but this frontend does not support input requests.\"\u001b[0m\u001b[0;34m\u001b[0m\u001b[0;34m\u001b[0m\u001b[0m\n\u001b[1;32m    850\u001b[0m             )\n\u001b[0;32m--> 851\u001b[0;31m         return self._input_request(str(prompt),\n\u001b[0m\u001b[1;32m    852\u001b[0m             \u001b[0mself\u001b[0m\u001b[0;34m.\u001b[0m\u001b[0m_parent_ident\u001b[0m\u001b[0;34m,\u001b[0m\u001b[0;34m\u001b[0m\u001b[0;34m\u001b[0m\u001b[0m\n\u001b[1;32m    853\u001b[0m             \u001b[0mself\u001b[0m\u001b[0;34m.\u001b[0m\u001b[0m_parent_header\u001b[0m\u001b[0;34m,\u001b[0m\u001b[0;34m\u001b[0m\u001b[0;34m\u001b[0m\u001b[0m\n",
            "\u001b[0;32m/usr/local/lib/python3.10/dist-packages/ipykernel/kernelbase.py\u001b[0m in \u001b[0;36m_input_request\u001b[0;34m(self, prompt, ident, parent, password)\u001b[0m\n\u001b[1;32m    893\u001b[0m             \u001b[0;32mexcept\u001b[0m \u001b[0mKeyboardInterrupt\u001b[0m\u001b[0;34m:\u001b[0m\u001b[0;34m\u001b[0m\u001b[0;34m\u001b[0m\u001b[0m\n\u001b[1;32m    894\u001b[0m                 \u001b[0;31m# re-raise KeyboardInterrupt, to truncate traceback\u001b[0m\u001b[0;34m\u001b[0m\u001b[0;34m\u001b[0m\u001b[0m\n\u001b[0;32m--> 895\u001b[0;31m                 \u001b[0;32mraise\u001b[0m \u001b[0mKeyboardInterrupt\u001b[0m\u001b[0;34m(\u001b[0m\u001b[0;34m\"Interrupted by user\"\u001b[0m\u001b[0;34m)\u001b[0m \u001b[0;32mfrom\u001b[0m \u001b[0;32mNone\u001b[0m\u001b[0;34m\u001b[0m\u001b[0;34m\u001b[0m\u001b[0m\n\u001b[0m\u001b[1;32m    896\u001b[0m             \u001b[0;32mexcept\u001b[0m \u001b[0mException\u001b[0m \u001b[0;32mas\u001b[0m \u001b[0me\u001b[0m\u001b[0;34m:\u001b[0m\u001b[0;34m\u001b[0m\u001b[0;34m\u001b[0m\u001b[0m\n\u001b[1;32m    897\u001b[0m                 \u001b[0mself\u001b[0m\u001b[0;34m.\u001b[0m\u001b[0mlog\u001b[0m\u001b[0;34m.\u001b[0m\u001b[0mwarning\u001b[0m\u001b[0;34m(\u001b[0m\u001b[0;34m\"Invalid Message:\"\u001b[0m\u001b[0;34m,\u001b[0m \u001b[0mexc_info\u001b[0m\u001b[0;34m=\u001b[0m\u001b[0;32mTrue\u001b[0m\u001b[0;34m)\u001b[0m\u001b[0;34m\u001b[0m\u001b[0;34m\u001b[0m\u001b[0m\n",
            "\u001b[0;31mKeyboardInterrupt\u001b[0m: Interrupted by user"
          ]
        }
      ]
    }
  ]
}